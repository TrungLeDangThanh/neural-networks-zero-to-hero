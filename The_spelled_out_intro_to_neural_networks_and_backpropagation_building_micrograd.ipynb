{
  "nbformat": 4,
  "nbformat_minor": 0,
  "metadata": {
    "colab": {
      "provenance": [],
      "authorship_tag": "ABX9TyNXVQdbRjsLKdM5svyOulpH",
      "include_colab_link": true
    },
    "kernelspec": {
      "name": "python3",
      "display_name": "Python 3"
    },
    "language_info": {
      "name": "python"
    }
  },
  "cells": [
    {
      "cell_type": "markdown",
      "metadata": {
        "id": "view-in-github",
        "colab_type": "text"
      },
      "source": [
        "<a href=\"https://colab.research.google.com/github/TrungLeDangThanh/neural-networks-zero-to-hero/blob/main/The_spelled_out_intro_to_neural_networks_and_backpropagation_building_micrograd.ipynb\" target=\"_parent\"><img src=\"https://colab.research.google.com/assets/colab-badge.svg\" alt=\"Open In Colab\"/></a>"
      ]
    },
    {
      "cell_type": "code",
      "execution_count": null,
      "metadata": {
        "id": "YQ80lMOXINfQ"
      },
      "outputs": [],
      "source": [
        "import math\n",
        "import random\n",
        "import numpy as np\n",
        "import matplotlib.pyplot as plt\n",
        "%matplotlib inline"
      ]
    },
    {
      "cell_type": "code",
      "source": [
        "class Value:\n",
        "  def __init__(self, data, _children=(), _op=\"\", label=\"\"):\n",
        "    self.data = data\n",
        "    self.grad = 0\n",
        "    self._backward = lambda: None\n",
        "    self._prev = set(_children)\n",
        "    self._op = _op\n",
        "    self.label = label\n",
        "\n",
        "  def __repr__(self):\n",
        "    return f\"Value(data={self.data})\"\n",
        "\n",
        "  def __add__(self, other):\n",
        "    other = other if isinstance(other, Value) else Value(other)\n",
        "    output = Value(self.data + other.data, (self, other), \"+\")\n",
        "\n",
        "    def _backward():\n",
        "      self.grad += 1.0 * output.grad\n",
        "      other.grad += 1.0 * output.grad\n",
        "\n",
        "    output._backward = _backward\n",
        "    return output\n",
        "\n",
        "  def __mul__(self, other):\n",
        "    other = other if isinstance(other, Value) else Value(other)\n",
        "    output = Value(self.data * other.data, (self, other), \"*\")\n",
        "\n",
        "    def _backward():\n",
        "      self.grad += other.data * output.grad\n",
        "      other.grad += self.data * output.grad\n",
        "\n",
        "    output._backward = _backward\n",
        "    return output\n",
        "\n",
        "  def __pow__(self, other):\n",
        "    assert isinstance(other, (int, float)), \"Only supporting int/float powers for now\"\n",
        "    output = Value(self.data**other, (self,), f\"**{other}\")\n",
        "\n",
        "    def _backward():\n",
        "      self.grad += (other * self.data**(other-1)) * output.grad\n",
        "\n",
        "    output._backward = _backward\n",
        "    return output\n",
        "\n",
        "  def __neg__(self):  # -a  # self = a\n",
        "    return self * -1\n",
        "\n",
        "  def __sub__(self, other):  # a - b  # self = a, other = b\n",
        "    return self + (-other)\n",
        "\n",
        "  def __truediv__(self, other):  # a / b  # self = a, other = b\n",
        "    return self * other**-1\n",
        "\n",
        "  def __radd__(self, other):  # b + a  # self = b, other = a\n",
        "    return self + other\n",
        "\n",
        "  def __rmul__(self, other):  # b * a  # self = b, other = a\n",
        "    return self * other\n",
        "\n",
        "  def __rsub__(self, other):  # (-b) + a  # self = b, other = a\n",
        "    return (-self) + other\n",
        "\n",
        "  def __rtruediv__(self, other):  # b**-1 * a  # self = b, other = a\n",
        "    return self**-1 * other\n",
        "\n",
        "  def exp(self):  # e to the power of x\n",
        "    x = self.data\n",
        "    output = Value(math.exp(x), (self, ), \"exp\")\n",
        "\n",
        "    def _backward():\n",
        "      self.grad += output.data * output.grad\n",
        "\n",
        "    output._backward = _backward\n",
        "    return output\n",
        "\n",
        "  def tanh(self):\n",
        "    x = self.data\n",
        "    t = (math.exp(2*x) - 1) / (math.exp(2*x) + 1)\n",
        "    output = Value(t, (self, ), \"tanh\")\n",
        "\n",
        "    def _backward():\n",
        "      self.grad += (1 - t**2) * output.grad\n",
        "\n",
        "    output._backward = _backward\n",
        "    return output\n",
        "\n",
        "  def backward(self):\n",
        "    topo = []\n",
        "    visited = set()\n",
        "\n",
        "    def build_topo(v):\n",
        "      if v not in visited:\n",
        "        visited.add(v)\n",
        "        for child in v._prev:\n",
        "          build_topo(child)\n",
        "        topo.append(v)\n",
        "\n",
        "    build_topo(self)\n",
        "    self.grad = 1.0\n",
        "    for node in reversed(topo):\n",
        "      node._backward()"
      ],
      "metadata": {
        "id": "bGf4_QEGXZqH"
      },
      "execution_count": null,
      "outputs": []
    },
    {
      "cell_type": "code",
      "source": [
        "from graphviz import Digraph\n",
        "\n",
        "def trace(root):\n",
        "  # builds a set of all nodes and edges in a graph\n",
        "  nodes, edges = set(), set()\n",
        "  def build(v):\n",
        "    if v not in nodes:\n",
        "      nodes.add(v)\n",
        "      for child in v._prev:\n",
        "        edges.add((child, v))\n",
        "        build(child)\n",
        "  build(root)\n",
        "  return nodes, edges\n",
        "\n",
        "def draw_dot(root):\n",
        "  dot = Digraph(format='svg', graph_attr={'rankdir': 'LR'}) # LR = left to right\n",
        "\n",
        "  nodes, edges = trace(root)\n",
        "  for n in nodes:\n",
        "    uid = str(id(n))\n",
        "    # for any value in the graph, create a rectangular ('record') node for it\n",
        "    dot.node(name = uid, label = \"{ %s | data %.4f | grad %.4f }\" % (n.label, n.data, n.grad), shape='record')\n",
        "    if n._op:\n",
        "      # if this value is a result of some operation, create an op node for it\n",
        "      dot.node(name = uid + n._op, label = n._op)\n",
        "      # and connect this node to it\n",
        "      dot.edge(uid + n._op, uid)\n",
        "\n",
        "  for n1, n2 in edges:\n",
        "    # connect n1 to the op node of n2\n",
        "    dot.edge(str(id(n1)), str(id(n2)) + n2._op)\n",
        "\n",
        "  return dot"
      ],
      "metadata": {
        "id": "Pkh5-Jn0gVRW"
      },
      "execution_count": null,
      "outputs": []
    },
    {
      "cell_type": "code",
      "source": [
        "# inputs x1,x2\n",
        "x1 = Value(2.0, label='x1')\n",
        "x2 = Value(0.0, label='x2')\n",
        "\n",
        "# weights w1,w2\n",
        "w1 = Value(-3.0, label='w1')\n",
        "w2 = Value(1.0, label='w2')\n",
        "\n",
        "# bias of the neuron\n",
        "b = Value(6.8813735870195432, label='b')\n",
        "\n",
        "# x1*w1 + x2*w2 + b\n",
        "x1w1 = x1*w1; x1w1.label = 'x1*w1'\n",
        "x2w2 = x2*w2; x2w2.label = 'x2*w2'\n",
        "x1w1x2w2 = x1w1 + x2w2; x1w1x2w2.label = 'x1*w1 + x2*w2'\n",
        "n = x1w1x2w2 + b; n.label = 'n'\n",
        "\n",
        "# normalize function\n",
        "o = n.tanh(); o.label = 'o'"
      ],
      "metadata": {
        "id": "yir5QVlvKLjC"
      },
      "execution_count": null,
      "outputs": []
    },
    {
      "cell_type": "code",
      "source": [
        "o.backward()"
      ],
      "metadata": {
        "id": "XKvmzzHbaGYm"
      },
      "execution_count": null,
      "outputs": []
    },
    {
      "cell_type": "code",
      "source": [
        "draw_dot(o)"
      ],
      "metadata": {
        "colab": {
          "base_uri": "https://localhost:8080/",
          "height": 321
        },
        "id": "wvZ5K02CKavR",
        "outputId": "f78a42ae-cdcd-449e-e90f-ba1982a07351"
      },
      "execution_count": null,
      "outputs": [
        {
          "output_type": "execute_result",
          "data": {
            "image/svg+xml": "<?xml version=\"1.0\" encoding=\"UTF-8\" standalone=\"no\"?>\n<!DOCTYPE svg PUBLIC \"-//W3C//DTD SVG 1.1//EN\"\n \"http://www.w3.org/Graphics/SVG/1.1/DTD/svg11.dtd\">\n<!-- Generated by graphviz version 2.43.0 (0)\n -->\n<!-- Title: %3 Pages: 1 -->\n<svg width=\"1575pt\" height=\"210pt\"\n viewBox=\"0.00 0.00 1575.00 210.00\" xmlns=\"http://www.w3.org/2000/svg\" xmlns:xlink=\"http://www.w3.org/1999/xlink\">\n<g id=\"graph0\" class=\"graph\" transform=\"scale(1 1) rotate(0) translate(4 206)\">\n<title>%3</title>\n<polygon fill=\"white\" stroke=\"transparent\" points=\"-4,4 -4,-206 1571,-206 1571,4 -4,4\"/>\n<!-- 133042422616592 -->\n<g id=\"node1\" class=\"node\">\n<title>133042422616592</title>\n<polygon fill=\"none\" stroke=\"black\" points=\"672,-82.5 672,-118.5 945,-118.5 945,-82.5 672,-82.5\"/>\n<text text-anchor=\"middle\" x=\"725\" y=\"-96.8\" font-family=\"Times,serif\" font-size=\"14.00\">x1*w1 + x2*w2</text>\n<polyline fill=\"none\" stroke=\"black\" points=\"778,-82.5 778,-118.5 \"/>\n<text text-anchor=\"middle\" x=\"820.5\" y=\"-96.8\" font-family=\"Times,serif\" font-size=\"14.00\">data &#45;6.0000</text>\n<polyline fill=\"none\" stroke=\"black\" points=\"863,-82.5 863,-118.5 \"/>\n<text text-anchor=\"middle\" x=\"904\" y=\"-96.8\" font-family=\"Times,serif\" font-size=\"14.00\">grad 0.5000</text>\n</g>\n<!-- 133042422615344+ -->\n<g id=\"node9\" class=\"node\">\n<title>133042422615344+</title>\n<ellipse fill=\"none\" stroke=\"black\" cx=\"1008\" cy=\"-127.5\" rx=\"27\" ry=\"18\"/>\n<text text-anchor=\"middle\" x=\"1008\" y=\"-123.8\" font-family=\"Times,serif\" font-size=\"14.00\">+</text>\n</g>\n<!-- 133042422616592&#45;&gt;133042422615344+ -->\n<g id=\"edge7\" class=\"edge\">\n<title>133042422616592&#45;&gt;133042422615344+</title>\n<path fill=\"none\" stroke=\"black\" d=\"M941.24,-118.51C952.12,-120 962.4,-121.4 971.45,-122.64\"/>\n<polygon fill=\"black\" stroke=\"black\" points=\"971.11,-126.13 981.49,-124.01 972.05,-119.19 971.11,-126.13\"/>\n</g>\n<!-- 133042422616592+ -->\n<g id=\"node2\" class=\"node\">\n<title>133042422616592+</title>\n<ellipse fill=\"none\" stroke=\"black\" cx=\"609\" cy=\"-100.5\" rx=\"27\" ry=\"18\"/>\n<text text-anchor=\"middle\" x=\"609\" y=\"-96.8\" font-family=\"Times,serif\" font-size=\"14.00\">+</text>\n</g>\n<!-- 133042422616592+&#45;&gt;133042422616592 -->\n<g id=\"edge1\" class=\"edge\">\n<title>133042422616592+&#45;&gt;133042422616592</title>\n<path fill=\"none\" stroke=\"black\" d=\"M636.23,-100.5C643.7,-100.5 652.41,-100.5 661.87,-100.5\"/>\n<polygon fill=\"black\" stroke=\"black\" points=\"661.98,-104 671.98,-100.5 661.98,-97 661.98,-104\"/>\n</g>\n<!-- 133042422625472 -->\n<g id=\"node3\" class=\"node\">\n<title>133042422625472</title>\n<polygon fill=\"none\" stroke=\"black\" points=\"716,-137.5 716,-173.5 901,-173.5 901,-137.5 716,-137.5\"/>\n<text text-anchor=\"middle\" x=\"727.5\" y=\"-151.8\" font-family=\"Times,serif\" font-size=\"14.00\">b</text>\n<polyline fill=\"none\" stroke=\"black\" points=\"739,-137.5 739,-173.5 \"/>\n<text text-anchor=\"middle\" x=\"779\" y=\"-151.8\" font-family=\"Times,serif\" font-size=\"14.00\">data 6.8814</text>\n<polyline fill=\"none\" stroke=\"black\" points=\"819,-137.5 819,-173.5 \"/>\n<text text-anchor=\"middle\" x=\"860\" y=\"-151.8\" font-family=\"Times,serif\" font-size=\"14.00\">grad 0.5000</text>\n</g>\n<!-- 133042422625472&#45;&gt;133042422615344+ -->\n<g id=\"edge14\" class=\"edge\">\n<title>133042422625472&#45;&gt;133042422615344+</title>\n<path fill=\"none\" stroke=\"black\" d=\"M901.02,-142.52C926,-138.98 951.59,-135.36 971.37,-132.55\"/>\n<polygon fill=\"black\" stroke=\"black\" points=\"972.03,-135.99 981.43,-131.12 971.04,-129.06 972.03,-135.99\"/>\n</g>\n<!-- 133042422616304 -->\n<g id=\"node4\" class=\"node\">\n<title>133042422616304</title>\n<polygon fill=\"none\" stroke=\"black\" points=\"328.5,-110.5 328.5,-146.5 543.5,-146.5 543.5,-110.5 328.5,-110.5\"/>\n<text text-anchor=\"middle\" x=\"355\" y=\"-124.8\" font-family=\"Times,serif\" font-size=\"14.00\">x2*w2</text>\n<polyline fill=\"none\" stroke=\"black\" points=\"381.5,-110.5 381.5,-146.5 \"/>\n<text text-anchor=\"middle\" x=\"421.5\" y=\"-124.8\" font-family=\"Times,serif\" font-size=\"14.00\">data 0.0000</text>\n<polyline fill=\"none\" stroke=\"black\" points=\"461.5,-110.5 461.5,-146.5 \"/>\n<text text-anchor=\"middle\" x=\"502.5\" y=\"-124.8\" font-family=\"Times,serif\" font-size=\"14.00\">grad 0.5000</text>\n</g>\n<!-- 133042422616304&#45;&gt;133042422616592+ -->\n<g id=\"edge8\" class=\"edge\">\n<title>133042422616304&#45;&gt;133042422616592+</title>\n<path fill=\"none\" stroke=\"black\" d=\"M543.84,-111.01C554.01,-109.34 563.76,-107.74 572.44,-106.32\"/>\n<polygon fill=\"black\" stroke=\"black\" points=\"573.17,-109.75 582.47,-104.68 572.04,-102.84 573.17,-109.75\"/>\n</g>\n<!-- 133042422616304* -->\n<g id=\"node5\" class=\"node\">\n<title>133042422616304*</title>\n<ellipse fill=\"none\" stroke=\"black\" cx=\"263\" cy=\"-128.5\" rx=\"27\" ry=\"18\"/>\n<text text-anchor=\"middle\" x=\"263\" y=\"-124.8\" font-family=\"Times,serif\" font-size=\"14.00\">*</text>\n</g>\n<!-- 133042422616304*&#45;&gt;133042422616304 -->\n<g id=\"edge2\" class=\"edge\">\n<title>133042422616304*&#45;&gt;133042422616304</title>\n<path fill=\"none\" stroke=\"black\" d=\"M290.34,-128.5C298.51,-128.5 308.08,-128.5 318.36,-128.5\"/>\n<polygon fill=\"black\" stroke=\"black\" points=\"318.39,-132 328.39,-128.5 318.39,-125 318.39,-132\"/>\n</g>\n<!-- 133042422617888 -->\n<g id=\"node6\" class=\"node\">\n<title>133042422617888</title>\n<polygon fill=\"none\" stroke=\"black\" points=\"1382,-109.5 1382,-145.5 1567,-145.5 1567,-109.5 1382,-109.5\"/>\n<text text-anchor=\"middle\" x=\"1393.5\" y=\"-123.8\" font-family=\"Times,serif\" font-size=\"14.00\">o</text>\n<polyline fill=\"none\" stroke=\"black\" points=\"1405,-109.5 1405,-145.5 \"/>\n<text text-anchor=\"middle\" x=\"1445\" y=\"-123.8\" font-family=\"Times,serif\" font-size=\"14.00\">data 0.7071</text>\n<polyline fill=\"none\" stroke=\"black\" points=\"1485,-109.5 1485,-145.5 \"/>\n<text text-anchor=\"middle\" x=\"1526\" y=\"-123.8\" font-family=\"Times,serif\" font-size=\"14.00\">grad 1.0000</text>\n</g>\n<!-- 133042422617888tanh -->\n<g id=\"node7\" class=\"node\">\n<title>133042422617888tanh</title>\n<ellipse fill=\"none\" stroke=\"black\" cx=\"1319\" cy=\"-127.5\" rx=\"27\" ry=\"18\"/>\n<text text-anchor=\"middle\" x=\"1319\" y=\"-123.8\" font-family=\"Times,serif\" font-size=\"14.00\">tanh</text>\n</g>\n<!-- 133042422617888tanh&#45;&gt;133042422617888 -->\n<g id=\"edge3\" class=\"edge\">\n<title>133042422617888tanh&#45;&gt;133042422617888</title>\n<path fill=\"none\" stroke=\"black\" d=\"M1346.04,-127.5C1353.58,-127.5 1362.3,-127.5 1371.57,-127.5\"/>\n<polygon fill=\"black\" stroke=\"black\" points=\"1371.81,-131 1381.81,-127.5 1371.81,-124 1371.81,-131\"/>\n</g>\n<!-- 133042422615344 -->\n<g id=\"node8\" class=\"node\">\n<title>133042422615344</title>\n<polygon fill=\"none\" stroke=\"black\" points=\"1071,-109.5 1071,-145.5 1256,-145.5 1256,-109.5 1071,-109.5\"/>\n<text text-anchor=\"middle\" x=\"1082.5\" y=\"-123.8\" font-family=\"Times,serif\" font-size=\"14.00\">n</text>\n<polyline fill=\"none\" stroke=\"black\" points=\"1094,-109.5 1094,-145.5 \"/>\n<text text-anchor=\"middle\" x=\"1134\" y=\"-123.8\" font-family=\"Times,serif\" font-size=\"14.00\">data 0.8814</text>\n<polyline fill=\"none\" stroke=\"black\" points=\"1174,-109.5 1174,-145.5 \"/>\n<text text-anchor=\"middle\" x=\"1215\" y=\"-123.8\" font-family=\"Times,serif\" font-size=\"14.00\">grad 0.5000</text>\n</g>\n<!-- 133042422615344&#45;&gt;133042422617888tanh -->\n<g id=\"edge11\" class=\"edge\">\n<title>133042422615344&#45;&gt;133042422617888tanh</title>\n<path fill=\"none\" stroke=\"black\" d=\"M1256.01,-127.5C1265.01,-127.5 1273.74,-127.5 1281.66,-127.5\"/>\n<polygon fill=\"black\" stroke=\"black\" points=\"1281.91,-131 1291.91,-127.5 1281.91,-124 1281.91,-131\"/>\n</g>\n<!-- 133042422615344+&#45;&gt;133042422615344 -->\n<g id=\"edge4\" class=\"edge\">\n<title>133042422615344+&#45;&gt;133042422615344</title>\n<path fill=\"none\" stroke=\"black\" d=\"M1035.04,-127.5C1042.58,-127.5 1051.3,-127.5 1060.57,-127.5\"/>\n<polygon fill=\"black\" stroke=\"black\" points=\"1060.81,-131 1070.81,-127.5 1060.81,-124 1060.81,-131\"/>\n</g>\n<!-- 133042422613808 -->\n<g id=\"node10\" class=\"node\">\n<title>133042422613808</title>\n<polygon fill=\"none\" stroke=\"black\" points=\"4,-165.5 4,-201.5 196,-201.5 196,-165.5 4,-165.5\"/>\n<text text-anchor=\"middle\" x=\"19\" y=\"-179.8\" font-family=\"Times,serif\" font-size=\"14.00\">x2</text>\n<polyline fill=\"none\" stroke=\"black\" points=\"34,-165.5 34,-201.5 \"/>\n<text text-anchor=\"middle\" x=\"74\" y=\"-179.8\" font-family=\"Times,serif\" font-size=\"14.00\">data 0.0000</text>\n<polyline fill=\"none\" stroke=\"black\" points=\"114,-165.5 114,-201.5 \"/>\n<text text-anchor=\"middle\" x=\"155\" y=\"-179.8\" font-family=\"Times,serif\" font-size=\"14.00\">grad 0.5000</text>\n</g>\n<!-- 133042422613808&#45;&gt;133042422616304* -->\n<g id=\"edge6\" class=\"edge\">\n<title>133042422613808&#45;&gt;133042422616304*</title>\n<path fill=\"none\" stroke=\"black\" d=\"M172.53,-165.44C181.84,-162.67 191.2,-159.67 200,-156.5 210.53,-152.71 221.75,-147.9 231.72,-143.33\"/>\n<polygon fill=\"black\" stroke=\"black\" points=\"233.25,-146.48 240.82,-139.07 230.28,-140.14 233.25,-146.48\"/>\n</g>\n<!-- 133042422614864 -->\n<g id=\"node11\" class=\"node\">\n<title>133042422614864</title>\n<polygon fill=\"none\" stroke=\"black\" points=\"2,-55.5 2,-91.5 198,-91.5 198,-55.5 2,-55.5\"/>\n<text text-anchor=\"middle\" x=\"17\" y=\"-69.8\" font-family=\"Times,serif\" font-size=\"14.00\">x1</text>\n<polyline fill=\"none\" stroke=\"black\" points=\"32,-55.5 32,-91.5 \"/>\n<text text-anchor=\"middle\" x=\"72\" y=\"-69.8\" font-family=\"Times,serif\" font-size=\"14.00\">data 2.0000</text>\n<polyline fill=\"none\" stroke=\"black\" points=\"112,-55.5 112,-91.5 \"/>\n<text text-anchor=\"middle\" x=\"155\" y=\"-69.8\" font-family=\"Times,serif\" font-size=\"14.00\">grad &#45;1.5000</text>\n</g>\n<!-- 133042422612320* -->\n<g id=\"node13\" class=\"node\">\n<title>133042422612320*</title>\n<ellipse fill=\"none\" stroke=\"black\" cx=\"263\" cy=\"-73.5\" rx=\"27\" ry=\"18\"/>\n<text text-anchor=\"middle\" x=\"263\" y=\"-69.8\" font-family=\"Times,serif\" font-size=\"14.00\">*</text>\n</g>\n<!-- 133042422614864&#45;&gt;133042422612320* -->\n<g id=\"edge12\" class=\"edge\">\n<title>133042422614864&#45;&gt;133042422612320*</title>\n<path fill=\"none\" stroke=\"black\" d=\"M198.37,-73.5C208.05,-73.5 217.4,-73.5 225.8,-73.5\"/>\n<polygon fill=\"black\" stroke=\"black\" points=\"225.91,-77 235.91,-73.5 225.91,-70 225.91,-77\"/>\n</g>\n<!-- 133042422612320 -->\n<g id=\"node12\" class=\"node\">\n<title>133042422612320</title>\n<polygon fill=\"none\" stroke=\"black\" points=\"326,-55.5 326,-91.5 546,-91.5 546,-55.5 326,-55.5\"/>\n<text text-anchor=\"middle\" x=\"352.5\" y=\"-69.8\" font-family=\"Times,serif\" font-size=\"14.00\">x1*w1</text>\n<polyline fill=\"none\" stroke=\"black\" points=\"379,-55.5 379,-91.5 \"/>\n<text text-anchor=\"middle\" x=\"421.5\" y=\"-69.8\" font-family=\"Times,serif\" font-size=\"14.00\">data &#45;6.0000</text>\n<polyline fill=\"none\" stroke=\"black\" points=\"464,-55.5 464,-91.5 \"/>\n<text text-anchor=\"middle\" x=\"505\" y=\"-69.8\" font-family=\"Times,serif\" font-size=\"14.00\">grad 0.5000</text>\n</g>\n<!-- 133042422612320&#45;&gt;133042422616592+ -->\n<g id=\"edge10\" class=\"edge\">\n<title>133042422612320&#45;&gt;133042422616592+</title>\n<path fill=\"none\" stroke=\"black\" d=\"M546.27,-90.75C555.64,-92.23 564.6,-93.65 572.65,-94.92\"/>\n<polygon fill=\"black\" stroke=\"black\" points=\"572.23,-98.4 582.65,-96.5 573.32,-91.48 572.23,-98.4\"/>\n</g>\n<!-- 133042422612320*&#45;&gt;133042422612320 -->\n<g id=\"edge5\" class=\"edge\">\n<title>133042422612320*&#45;&gt;133042422612320</title>\n<path fill=\"none\" stroke=\"black\" d=\"M290.34,-73.5C297.77,-73.5 306.37,-73.5 315.6,-73.5\"/>\n<polygon fill=\"black\" stroke=\"black\" points=\"315.84,-77 325.84,-73.5 315.84,-70 315.84,-77\"/>\n</g>\n<!-- 133042422614912 -->\n<g id=\"node14\" class=\"node\">\n<title>133042422614912</title>\n<polygon fill=\"none\" stroke=\"black\" points=\"2.5,-110.5 2.5,-146.5 197.5,-146.5 197.5,-110.5 2.5,-110.5\"/>\n<text text-anchor=\"middle\" x=\"19\" y=\"-124.8\" font-family=\"Times,serif\" font-size=\"14.00\">w2</text>\n<polyline fill=\"none\" stroke=\"black\" points=\"35.5,-110.5 35.5,-146.5 \"/>\n<text text-anchor=\"middle\" x=\"75.5\" y=\"-124.8\" font-family=\"Times,serif\" font-size=\"14.00\">data 1.0000</text>\n<polyline fill=\"none\" stroke=\"black\" points=\"115.5,-110.5 115.5,-146.5 \"/>\n<text text-anchor=\"middle\" x=\"156.5\" y=\"-124.8\" font-family=\"Times,serif\" font-size=\"14.00\">grad 0.0000</text>\n</g>\n<!-- 133042422614912&#45;&gt;133042422616304* -->\n<g id=\"edge9\" class=\"edge\">\n<title>133042422614912&#45;&gt;133042422616304*</title>\n<path fill=\"none\" stroke=\"black\" d=\"M197.91,-128.5C207.65,-128.5 217.05,-128.5 225.52,-128.5\"/>\n<polygon fill=\"black\" stroke=\"black\" points=\"225.7,-132 235.7,-128.5 225.7,-125 225.7,-132\"/>\n</g>\n<!-- 133042422615488 -->\n<g id=\"node15\" class=\"node\">\n<title>133042422615488</title>\n<polygon fill=\"none\" stroke=\"black\" points=\"0,-0.5 0,-36.5 200,-36.5 200,-0.5 0,-0.5\"/>\n<text text-anchor=\"middle\" x=\"16.5\" y=\"-14.8\" font-family=\"Times,serif\" font-size=\"14.00\">w1</text>\n<polyline fill=\"none\" stroke=\"black\" points=\"33,-0.5 33,-36.5 \"/>\n<text text-anchor=\"middle\" x=\"75.5\" y=\"-14.8\" font-family=\"Times,serif\" font-size=\"14.00\">data &#45;3.0000</text>\n<polyline fill=\"none\" stroke=\"black\" points=\"118,-0.5 118,-36.5 \"/>\n<text text-anchor=\"middle\" x=\"159\" y=\"-14.8\" font-family=\"Times,serif\" font-size=\"14.00\">grad 1.0000</text>\n</g>\n<!-- 133042422615488&#45;&gt;133042422612320* -->\n<g id=\"edge13\" class=\"edge\">\n<title>133042422615488&#45;&gt;133042422612320*</title>\n<path fill=\"none\" stroke=\"black\" d=\"M169.28,-36.5C179.65,-39.61 190.16,-42.98 200,-46.5 210.28,-50.17 221.28,-54.74 231.11,-59.07\"/>\n<polygon fill=\"black\" stroke=\"black\" points=\"229.93,-62.37 240.48,-63.27 232.79,-55.99 229.93,-62.37\"/>\n</g>\n</g>\n</svg>\n",
            "text/plain": [
              "<graphviz.graphs.Digraph at 0x79005a571600>"
            ]
          },
          "metadata": {},
          "execution_count": 638
        }
      ]
    },
    {
      "cell_type": "code",
      "source": [
        "a = Value(3.0, label='a')\n",
        "b = 2*a**2 - 2*a + 2/a - 1   ; b.label = 'b'\n",
        "\n",
        "print(b)\n",
        "b.backward()\n",
        "draw_dot(b)"
      ],
      "metadata": {
        "colab": {
          "base_uri": "https://localhost:8080/",
          "height": 485
        },
        "id": "Y8mgeVitr1Xg",
        "outputId": "e5f5ee86-5de0-438b-8e13-68305a8fabbc"
      },
      "execution_count": null,
      "outputs": [
        {
          "output_type": "stream",
          "name": "stdout",
          "text": [
            "Value(data=11.666666666666666)\n"
          ]
        },
        {
          "output_type": "execute_result",
          "data": {
            "image/svg+xml": "<?xml version=\"1.0\" encoding=\"UTF-8\" standalone=\"no\"?>\n<!DOCTYPE svg PUBLIC \"-//W3C//DTD SVG 1.1//EN\"\n \"http://www.w3.org/Graphics/SVG/1.1/DTD/svg11.dtd\">\n<!-- Generated by graphviz version 2.43.0 (0)\n -->\n<!-- Title: %3 Pages: 1 -->\n<svg width=\"1898pt\" height=\"320pt\"\n viewBox=\"0.00 0.00 1898.00 320.00\" xmlns=\"http://www.w3.org/2000/svg\" xmlns:xlink=\"http://www.w3.org/1999/xlink\">\n<g id=\"graph0\" class=\"graph\" transform=\"scale(1 1) rotate(0) translate(4 316)\">\n<title>%3</title>\n<polygon fill=\"white\" stroke=\"transparent\" points=\"-4,4 -4,-316 1894,-316 1894,4 -4,4\"/>\n<!-- 133042422617648 -->\n<g id=\"node1\" class=\"node\">\n<title>133042422617648</title>\n<polygon fill=\"none\" stroke=\"black\" points=\"1384,-168.5 1384,-204.5 1571,-204.5 1571,-168.5 1384,-168.5\"/>\n<text text-anchor=\"middle\" x=\"1394\" y=\"-182.8\" font-family=\"Times,serif\" font-size=\"14.00\"> </text>\n<polyline fill=\"none\" stroke=\"black\" points=\"1404,-168.5 1404,-204.5 \"/>\n<text text-anchor=\"middle\" x=\"1446.5\" y=\"-182.8\" font-family=\"Times,serif\" font-size=\"14.00\">data &#45;1.0000</text>\n<polyline fill=\"none\" stroke=\"black\" points=\"1489,-168.5 1489,-204.5 \"/>\n<text text-anchor=\"middle\" x=\"1530\" y=\"-182.8\" font-family=\"Times,serif\" font-size=\"14.00\">grad 1.0000</text>\n</g>\n<!-- 133042422620912+ -->\n<g id=\"node12\" class=\"node\">\n<title>133042422620912+</title>\n<ellipse fill=\"none\" stroke=\"black\" cx=\"1635\" cy=\"-158.5\" rx=\"27\" ry=\"18\"/>\n<text text-anchor=\"middle\" x=\"1635\" y=\"-154.8\" font-family=\"Times,serif\" font-size=\"14.00\">+</text>\n</g>\n<!-- 133042422617648&#45;&gt;133042422620912+ -->\n<g id=\"edge14\" class=\"edge\">\n<title>133042422617648&#45;&gt;133042422620912+</title>\n<path fill=\"none\" stroke=\"black\" d=\"M1571.2,-169.81C1580.9,-168.06 1590.27,-166.37 1598.68,-164.86\"/>\n<polygon fill=\"black\" stroke=\"black\" points=\"1599.57,-168.26 1608.79,-163.04 1598.32,-161.37 1599.57,-168.26\"/>\n</g>\n<!-- 133042422614576 -->\n<g id=\"node2\" class=\"node\">\n<title>133042422614576</title>\n<polygon fill=\"none\" stroke=\"black\" points=\"1068,-139.5 1068,-175.5 1257,-175.5 1257,-139.5 1068,-139.5\"/>\n<text text-anchor=\"middle\" x=\"1078\" y=\"-153.8\" font-family=\"Times,serif\" font-size=\"14.00\"> </text>\n<polyline fill=\"none\" stroke=\"black\" points=\"1088,-139.5 1088,-175.5 \"/>\n<text text-anchor=\"middle\" x=\"1131.5\" y=\"-153.8\" font-family=\"Times,serif\" font-size=\"14.00\">data 12.0000</text>\n<polyline fill=\"none\" stroke=\"black\" points=\"1175,-139.5 1175,-175.5 \"/>\n<text text-anchor=\"middle\" x=\"1216\" y=\"-153.8\" font-family=\"Times,serif\" font-size=\"14.00\">grad 1.0000</text>\n</g>\n<!-- 133042422612416+ -->\n<g id=\"node20\" class=\"node\">\n<title>133042422612416+</title>\n<ellipse fill=\"none\" stroke=\"black\" cx=\"1320\" cy=\"-131.5\" rx=\"27\" ry=\"18\"/>\n<text text-anchor=\"middle\" x=\"1320\" y=\"-127.8\" font-family=\"Times,serif\" font-size=\"14.00\">+</text>\n</g>\n<!-- 133042422614576&#45;&gt;133042422612416+ -->\n<g id=\"edge21\" class=\"edge\">\n<title>133042422614576&#45;&gt;133042422612416+</title>\n<path fill=\"none\" stroke=\"black\" d=\"M1257.1,-141.85C1266.4,-140.3 1275.38,-138.79 1283.49,-137.44\"/>\n<polygon fill=\"black\" stroke=\"black\" points=\"1284.31,-140.85 1293.59,-135.75 1283.15,-133.95 1284.31,-140.85\"/>\n</g>\n<!-- 133042422614576+ -->\n<g id=\"node3\" class=\"node\">\n<title>133042422614576+</title>\n<ellipse fill=\"none\" stroke=\"black\" cx=\"941\" cy=\"-173.5\" rx=\"27\" ry=\"18\"/>\n<text text-anchor=\"middle\" x=\"941\" y=\"-169.8\" font-family=\"Times,serif\" font-size=\"14.00\">+</text>\n</g>\n<!-- 133042422614576+&#45;&gt;133042422614576 -->\n<g id=\"edge1\" class=\"edge\">\n<title>133042422614576+&#45;&gt;133042422614576</title>\n<path fill=\"none\" stroke=\"black\" d=\"M968.04,-171.6C990.48,-169.97 1024.4,-167.49 1057.61,-165.07\"/>\n<polygon fill=\"black\" stroke=\"black\" points=\"1058.16,-168.54 1067.88,-164.32 1057.65,-161.56 1058.16,-168.54\"/>\n</g>\n<!-- 133042422626432 -->\n<g id=\"node4\" class=\"node\">\n<title>133042422626432</title>\n<polygon fill=\"none\" stroke=\"black\" points=\"0.5,-110.5 0.5,-146.5 185.5,-146.5 185.5,-110.5 0.5,-110.5\"/>\n<text text-anchor=\"middle\" x=\"12\" y=\"-124.8\" font-family=\"Times,serif\" font-size=\"14.00\">a</text>\n<polyline fill=\"none\" stroke=\"black\" points=\"23.5,-110.5 23.5,-146.5 \"/>\n<text text-anchor=\"middle\" x=\"63.5\" y=\"-124.8\" font-family=\"Times,serif\" font-size=\"14.00\">data 3.0000</text>\n<polyline fill=\"none\" stroke=\"black\" points=\"103.5,-110.5 103.5,-146.5 \"/>\n<text text-anchor=\"middle\" x=\"144.5\" y=\"-124.8\" font-family=\"Times,serif\" font-size=\"14.00\">grad 9.7778</text>\n</g>\n<!-- 133042422624416* -->\n<g id=\"node6\" class=\"node\">\n<title>133042422624416*</title>\n<ellipse fill=\"none\" stroke=\"black\" cx=\"249\" cy=\"-238.5\" rx=\"27\" ry=\"18\"/>\n<text text-anchor=\"middle\" x=\"249\" y=\"-234.8\" font-family=\"Times,serif\" font-size=\"14.00\">*</text>\n</g>\n<!-- 133042422626432&#45;&gt;133042422624416* -->\n<g id=\"edge17\" class=\"edge\">\n<title>133042422626432&#45;&gt;133042422624416*</title>\n<path fill=\"none\" stroke=\"black\" d=\"M119.43,-146.66C147.61,-166.79 192.85,-199.11 221.47,-219.55\"/>\n<polygon fill=\"black\" stroke=\"black\" points=\"219.61,-222.52 229.78,-225.48 223.67,-216.82 219.61,-222.52\"/>\n</g>\n<!-- 133042422627776**&#45;1 -->\n<g id=\"node8\" class=\"node\">\n<title>133042422627776**&#45;1</title>\n<ellipse fill=\"none\" stroke=\"black\" cx=\"249\" cy=\"-74.5\" rx=\"27\" ry=\"18\"/>\n<text text-anchor=\"middle\" x=\"249\" y=\"-70.8\" font-family=\"Times,serif\" font-size=\"14.00\">**&#45;1</text>\n</g>\n<!-- 133042422626432&#45;&gt;133042422627776**&#45;1 -->\n<g id=\"edge11\" class=\"edge\">\n<title>133042422626432&#45;&gt;133042422627776**&#45;1</title>\n<path fill=\"none\" stroke=\"black\" d=\"M145.71,-110.37C168.58,-102.35 194.81,-93.15 214.97,-86.08\"/>\n<polygon fill=\"black\" stroke=\"black\" points=\"216.35,-89.31 224.63,-82.69 214.04,-82.7 216.35,-89.31\"/>\n</g>\n<!-- 133042422612944**2 -->\n<g id=\"node22\" class=\"node\">\n<title>133042422612944**2</title>\n<ellipse fill=\"none\" stroke=\"black\" cx=\"249\" cy=\"-128.5\" rx=\"27\" ry=\"18\"/>\n<text text-anchor=\"middle\" x=\"249\" y=\"-124.8\" font-family=\"Times,serif\" font-size=\"14.00\">**2</text>\n</g>\n<!-- 133042422626432&#45;&gt;133042422612944**2 -->\n<g id=\"edge13\" class=\"edge\">\n<title>133042422626432&#45;&gt;133042422612944**2</title>\n<path fill=\"none\" stroke=\"black\" d=\"M185.81,-128.5C194.94,-128.5 203.79,-128.5 211.81,-128.5\"/>\n<polygon fill=\"black\" stroke=\"black\" points=\"211.82,-132 221.82,-128.5 211.82,-125 211.82,-132\"/>\n</g>\n<!-- 133042422624416 -->\n<g id=\"node5\" class=\"node\">\n<title>133042422624416</title>\n<polygon fill=\"none\" stroke=\"black\" points=\"312.5,-275.5 312.5,-311.5 498.5,-311.5 498.5,-275.5 312.5,-275.5\"/>\n<text text-anchor=\"middle\" x=\"322.5\" y=\"-289.8\" font-family=\"Times,serif\" font-size=\"14.00\"> </text>\n<polyline fill=\"none\" stroke=\"black\" points=\"332.5,-275.5 332.5,-311.5 \"/>\n<text text-anchor=\"middle\" x=\"372.5\" y=\"-289.8\" font-family=\"Times,serif\" font-size=\"14.00\">data 6.0000</text>\n<polyline fill=\"none\" stroke=\"black\" points=\"412.5,-275.5 412.5,-311.5 \"/>\n<text text-anchor=\"middle\" x=\"455.5\" y=\"-289.8\" font-family=\"Times,serif\" font-size=\"14.00\">grad &#45;1.0000</text>\n</g>\n<!-- 133042422624752* -->\n<g id=\"node24\" class=\"node\">\n<title>133042422624752*</title>\n<ellipse fill=\"none\" stroke=\"black\" cx=\"562\" cy=\"-238.5\" rx=\"27\" ry=\"18\"/>\n<text text-anchor=\"middle\" x=\"562\" y=\"-234.8\" font-family=\"Times,serif\" font-size=\"14.00\">*</text>\n</g>\n<!-- 133042422624416&#45;&gt;133042422624752* -->\n<g id=\"edge24\" class=\"edge\">\n<title>133042422624416&#45;&gt;133042422624752*</title>\n<path fill=\"none\" stroke=\"black\" d=\"M472.56,-275.45C481.51,-272.64 490.53,-269.63 499,-266.5 509.49,-262.62 520.71,-257.78 530.68,-253.22\"/>\n<polygon fill=\"black\" stroke=\"black\" points=\"532.2,-256.37 539.79,-248.97 529.25,-250.02 532.2,-256.37\"/>\n</g>\n<!-- 133042422624416*&#45;&gt;133042422624416 -->\n<g id=\"edge2\" class=\"edge\">\n<title>133042422624416*&#45;&gt;133042422624416</title>\n<path fill=\"none\" stroke=\"black\" d=\"M271.21,-248.97C283.05,-254.59 298.15,-261.38 312,-266.5 317.43,-268.51 323.08,-270.46 328.79,-272.35\"/>\n<polygon fill=\"black\" stroke=\"black\" points=\"327.85,-275.72 338.44,-275.45 329.99,-269.06 327.85,-275.72\"/>\n</g>\n<!-- 133042422627776 -->\n<g id=\"node7\" class=\"node\">\n<title>133042422627776</title>\n<polygon fill=\"none\" stroke=\"black\" points=\"314.5,-55.5 314.5,-91.5 496.5,-91.5 496.5,-55.5 314.5,-55.5\"/>\n<text text-anchor=\"middle\" x=\"324.5\" y=\"-69.8\" font-family=\"Times,serif\" font-size=\"14.00\"> </text>\n<polyline fill=\"none\" stroke=\"black\" points=\"334.5,-55.5 334.5,-91.5 \"/>\n<text text-anchor=\"middle\" x=\"374.5\" y=\"-69.8\" font-family=\"Times,serif\" font-size=\"14.00\">data 0.3333</text>\n<polyline fill=\"none\" stroke=\"black\" points=\"414.5,-55.5 414.5,-91.5 \"/>\n<text text-anchor=\"middle\" x=\"455.5\" y=\"-69.8\" font-family=\"Times,serif\" font-size=\"14.00\">grad 2.0000</text>\n</g>\n<!-- 133042422614432* -->\n<g id=\"node18\" class=\"node\">\n<title>133042422614432*</title>\n<ellipse fill=\"none\" stroke=\"black\" cx=\"562\" cy=\"-73.5\" rx=\"27\" ry=\"18\"/>\n<text text-anchor=\"middle\" x=\"562\" y=\"-69.8\" font-family=\"Times,serif\" font-size=\"14.00\">*</text>\n</g>\n<!-- 133042422627776&#45;&gt;133042422614432* -->\n<g id=\"edge22\" class=\"edge\">\n<title>133042422627776&#45;&gt;133042422614432*</title>\n<path fill=\"none\" stroke=\"black\" d=\"M496.82,-73.5C506.57,-73.5 516.04,-73.5 524.57,-73.5\"/>\n<polygon fill=\"black\" stroke=\"black\" points=\"524.83,-77 534.83,-73.5 524.83,-70 524.83,-77\"/>\n</g>\n<!-- 133042422627776**&#45;1&#45;&gt;133042422627776 -->\n<g id=\"edge3\" class=\"edge\">\n<title>133042422627776**&#45;1&#45;&gt;133042422627776</title>\n<path fill=\"none\" stroke=\"black\" d=\"M276.21,-74.33C284.34,-74.28 293.85,-74.22 303.94,-74.15\"/>\n<polygon fill=\"black\" stroke=\"black\" points=\"304.21,-77.65 314.19,-74.08 304.17,-70.65 304.21,-77.65\"/>\n</g>\n<!-- 133042422620144 -->\n<g id=\"node9\" class=\"node\">\n<title>133042422620144</title>\n<polygon fill=\"none\" stroke=\"black\" points=\"0,-220.5 0,-256.5 186,-256.5 186,-220.5 0,-220.5\"/>\n<text text-anchor=\"middle\" x=\"10\" y=\"-234.8\" font-family=\"Times,serif\" font-size=\"14.00\"> </text>\n<polyline fill=\"none\" stroke=\"black\" points=\"20,-220.5 20,-256.5 \"/>\n<text text-anchor=\"middle\" x=\"60\" y=\"-234.8\" font-family=\"Times,serif\" font-size=\"14.00\">data 2.0000</text>\n<polyline fill=\"none\" stroke=\"black\" points=\"100,-220.5 100,-256.5 \"/>\n<text text-anchor=\"middle\" x=\"143\" y=\"-234.8\" font-family=\"Times,serif\" font-size=\"14.00\">grad &#45;3.0000</text>\n</g>\n<!-- 133042422620144&#45;&gt;133042422624416* -->\n<g id=\"edge20\" class=\"edge\">\n<title>133042422620144&#45;&gt;133042422624416*</title>\n<path fill=\"none\" stroke=\"black\" d=\"M186.25,-238.5C195.15,-238.5 203.76,-238.5 211.59,-238.5\"/>\n<polygon fill=\"black\" stroke=\"black\" points=\"211.73,-242 221.73,-238.5 211.73,-235 211.73,-242\"/>\n</g>\n<!-- 133042422618320 -->\n<g id=\"node10\" class=\"node\">\n<title>133042422618320</title>\n<polygon fill=\"none\" stroke=\"black\" points=\"314.5,-0.5 314.5,-36.5 496.5,-36.5 496.5,-0.5 314.5,-0.5\"/>\n<text text-anchor=\"middle\" x=\"324.5\" y=\"-14.8\" font-family=\"Times,serif\" font-size=\"14.00\"> </text>\n<polyline fill=\"none\" stroke=\"black\" points=\"334.5,-0.5 334.5,-36.5 \"/>\n<text text-anchor=\"middle\" x=\"374.5\" y=\"-14.8\" font-family=\"Times,serif\" font-size=\"14.00\">data 2.0000</text>\n<polyline fill=\"none\" stroke=\"black\" points=\"414.5,-0.5 414.5,-36.5 \"/>\n<text text-anchor=\"middle\" x=\"455.5\" y=\"-14.8\" font-family=\"Times,serif\" font-size=\"14.00\">grad 0.3333</text>\n</g>\n<!-- 133042422618320&#45;&gt;133042422614432* -->\n<g id=\"edge23\" class=\"edge\">\n<title>133042422618320&#45;&gt;133042422614432*</title>\n<path fill=\"none\" stroke=\"black\" d=\"M472.56,-36.55C481.51,-39.36 490.53,-42.37 499,-45.5 509.49,-49.38 520.71,-54.22 530.68,-58.78\"/>\n<polygon fill=\"black\" stroke=\"black\" points=\"529.25,-61.98 539.79,-63.03 532.2,-55.63 529.25,-61.98\"/>\n</g>\n<!-- 133042422620912 -->\n<g id=\"node11\" class=\"node\">\n<title>133042422620912</title>\n<polygon fill=\"none\" stroke=\"black\" points=\"1698,-140.5 1698,-176.5 1890,-176.5 1890,-140.5 1698,-140.5\"/>\n<text text-anchor=\"middle\" x=\"1709.5\" y=\"-154.8\" font-family=\"Times,serif\" font-size=\"14.00\">b</text>\n<polyline fill=\"none\" stroke=\"black\" points=\"1721,-140.5 1721,-176.5 \"/>\n<text text-anchor=\"middle\" x=\"1764.5\" y=\"-154.8\" font-family=\"Times,serif\" font-size=\"14.00\">data 11.6667</text>\n<polyline fill=\"none\" stroke=\"black\" points=\"1808,-140.5 1808,-176.5 \"/>\n<text text-anchor=\"middle\" x=\"1849\" y=\"-154.8\" font-family=\"Times,serif\" font-size=\"14.00\">grad 1.0000</text>\n</g>\n<!-- 133042422620912+&#45;&gt;133042422620912 -->\n<g id=\"edge4\" class=\"edge\">\n<title>133042422620912+&#45;&gt;133042422620912</title>\n<path fill=\"none\" stroke=\"black\" d=\"M1662.28,-158.5C1669.78,-158.5 1678.44,-158.5 1687.67,-158.5\"/>\n<polygon fill=\"black\" stroke=\"black\" points=\"1687.87,-162 1697.87,-158.5 1687.87,-155 1687.87,-162\"/>\n</g>\n<!-- 133042422619040 -->\n<g id=\"node13\" class=\"node\">\n<title>133042422619040</title>\n<polygon fill=\"none\" stroke=\"black\" points=\"314.5,-165.5 314.5,-201.5 496.5,-201.5 496.5,-165.5 314.5,-165.5\"/>\n<text text-anchor=\"middle\" x=\"324.5\" y=\"-179.8\" font-family=\"Times,serif\" font-size=\"14.00\"> </text>\n<polyline fill=\"none\" stroke=\"black\" points=\"334.5,-165.5 334.5,-201.5 \"/>\n<text text-anchor=\"middle\" x=\"374.5\" y=\"-179.8\" font-family=\"Times,serif\" font-size=\"14.00\">data 2.0000</text>\n<polyline fill=\"none\" stroke=\"black\" points=\"414.5,-165.5 414.5,-201.5 \"/>\n<text text-anchor=\"middle\" x=\"455.5\" y=\"-179.8\" font-family=\"Times,serif\" font-size=\"14.00\">grad 9.0000</text>\n</g>\n<!-- 133042422618896* -->\n<g id=\"node15\" class=\"node\">\n<title>133042422618896*</title>\n<ellipse fill=\"none\" stroke=\"black\" cx=\"562\" cy=\"-173.5\" rx=\"27\" ry=\"18\"/>\n<text text-anchor=\"middle\" x=\"562\" y=\"-169.8\" font-family=\"Times,serif\" font-size=\"14.00\">*</text>\n</g>\n<!-- 133042422619040&#45;&gt;133042422618896* -->\n<g id=\"edge19\" class=\"edge\">\n<title>133042422619040&#45;&gt;133042422618896*</title>\n<path fill=\"none\" stroke=\"black\" d=\"M496.82,-177.65C506.57,-177.02 516.04,-176.41 524.57,-175.86\"/>\n<polygon fill=\"black\" stroke=\"black\" points=\"525.08,-179.33 534.83,-175.19 524.62,-172.35 525.08,-179.33\"/>\n</g>\n<!-- 133042422618896 -->\n<g id=\"node14\" class=\"node\">\n<title>133042422618896</title>\n<polygon fill=\"none\" stroke=\"black\" points=\"625,-155.5 625,-191.5 814,-191.5 814,-155.5 625,-155.5\"/>\n<text text-anchor=\"middle\" x=\"635\" y=\"-169.8\" font-family=\"Times,serif\" font-size=\"14.00\"> </text>\n<polyline fill=\"none\" stroke=\"black\" points=\"645,-155.5 645,-191.5 \"/>\n<text text-anchor=\"middle\" x=\"688.5\" y=\"-169.8\" font-family=\"Times,serif\" font-size=\"14.00\">data 18.0000</text>\n<polyline fill=\"none\" stroke=\"black\" points=\"732,-155.5 732,-191.5 \"/>\n<text text-anchor=\"middle\" x=\"773\" y=\"-169.8\" font-family=\"Times,serif\" font-size=\"14.00\">grad 1.0000</text>\n</g>\n<!-- 133042422618896&#45;&gt;133042422614576+ -->\n<g id=\"edge16\" class=\"edge\">\n<title>133042422618896&#45;&gt;133042422614576+</title>\n<path fill=\"none\" stroke=\"black\" d=\"M814.22,-173.5C845.69,-173.5 878.95,-173.5 903.36,-173.5\"/>\n<polygon fill=\"black\" stroke=\"black\" points=\"903.58,-177 913.58,-173.5 903.58,-170 903.58,-177\"/>\n</g>\n<!-- 133042422618896*&#45;&gt;133042422618896 -->\n<g id=\"edge5\" class=\"edge\">\n<title>133042422618896*&#45;&gt;133042422618896</title>\n<path fill=\"none\" stroke=\"black\" d=\"M589.03,-173.5C596.66,-173.5 605.52,-173.5 614.94,-173.5\"/>\n<polygon fill=\"black\" stroke=\"black\" points=\"614.94,-177 624.94,-173.5 614.94,-170 614.94,-177\"/>\n</g>\n<!-- 133042422624608 -->\n<g id=\"node16\" class=\"node\">\n<title>133042422624608</title>\n<polygon fill=\"none\" stroke=\"black\" points=\"312,-220.5 312,-256.5 499,-256.5 499,-220.5 312,-220.5\"/>\n<text text-anchor=\"middle\" x=\"322\" y=\"-234.8\" font-family=\"Times,serif\" font-size=\"14.00\"> </text>\n<polyline fill=\"none\" stroke=\"black\" points=\"332,-220.5 332,-256.5 \"/>\n<text text-anchor=\"middle\" x=\"374.5\" y=\"-234.8\" font-family=\"Times,serif\" font-size=\"14.00\">data &#45;1.0000</text>\n<polyline fill=\"none\" stroke=\"black\" points=\"417,-220.5 417,-256.5 \"/>\n<text text-anchor=\"middle\" x=\"458\" y=\"-234.8\" font-family=\"Times,serif\" font-size=\"14.00\">grad 6.0000</text>\n</g>\n<!-- 133042422624608&#45;&gt;133042422624752* -->\n<g id=\"edge10\" class=\"edge\">\n<title>133042422624608&#45;&gt;133042422624752*</title>\n<path fill=\"none\" stroke=\"black\" d=\"M499.05,-238.5C508.06,-238.5 516.79,-238.5 524.7,-238.5\"/>\n<polygon fill=\"black\" stroke=\"black\" points=\"524.95,-242 534.95,-238.5 524.95,-235 524.95,-242\"/>\n</g>\n<!-- 133042422614432 -->\n<g id=\"node17\" class=\"node\">\n<title>133042422614432</title>\n<polygon fill=\"none\" stroke=\"black\" points=\"850,-86.5 850,-122.5 1032,-122.5 1032,-86.5 850,-86.5\"/>\n<text text-anchor=\"middle\" x=\"860\" y=\"-100.8\" font-family=\"Times,serif\" font-size=\"14.00\"> </text>\n<polyline fill=\"none\" stroke=\"black\" points=\"870,-86.5 870,-122.5 \"/>\n<text text-anchor=\"middle\" x=\"910\" y=\"-100.8\" font-family=\"Times,serif\" font-size=\"14.00\">data 0.6667</text>\n<polyline fill=\"none\" stroke=\"black\" points=\"950,-86.5 950,-122.5 \"/>\n<text text-anchor=\"middle\" x=\"991\" y=\"-100.8\" font-family=\"Times,serif\" font-size=\"14.00\">grad 1.0000</text>\n</g>\n<!-- 133042422614432&#45;&gt;133042422612416+ -->\n<g id=\"edge25\" class=\"edge\">\n<title>133042422614432&#45;&gt;133042422612416+</title>\n<path fill=\"none\" stroke=\"black\" d=\"M1032.3,-110.97C1112.48,-116.71 1225.56,-124.81 1282.79,-128.91\"/>\n<polygon fill=\"black\" stroke=\"black\" points=\"1282.58,-132.4 1292.8,-129.62 1283.08,-125.42 1282.58,-132.4\"/>\n</g>\n<!-- 133042422614432*&#45;&gt;133042422614432 -->\n<g id=\"edge6\" class=\"edge\">\n<title>133042422614432*&#45;&gt;133042422614432</title>\n<path fill=\"none\" stroke=\"black\" d=\"M588.91,-75.63C639.75,-79.81 754.96,-89.28 839.6,-96.24\"/>\n<polygon fill=\"black\" stroke=\"black\" points=\"839.51,-99.75 849.77,-97.08 840.09,-92.77 839.51,-99.75\"/>\n</g>\n<!-- 133042422612416 -->\n<g id=\"node19\" class=\"node\">\n<title>133042422612416</title>\n<polygon fill=\"none\" stroke=\"black\" points=\"1383,-113.5 1383,-149.5 1572,-149.5 1572,-113.5 1383,-113.5\"/>\n<text text-anchor=\"middle\" x=\"1393\" y=\"-127.8\" font-family=\"Times,serif\" font-size=\"14.00\"> </text>\n<polyline fill=\"none\" stroke=\"black\" points=\"1403,-113.5 1403,-149.5 \"/>\n<text text-anchor=\"middle\" x=\"1446.5\" y=\"-127.8\" font-family=\"Times,serif\" font-size=\"14.00\">data 12.6667</text>\n<polyline fill=\"none\" stroke=\"black\" points=\"1490,-113.5 1490,-149.5 \"/>\n<text text-anchor=\"middle\" x=\"1531\" y=\"-127.8\" font-family=\"Times,serif\" font-size=\"14.00\">grad 1.0000</text>\n</g>\n<!-- 133042422612416&#45;&gt;133042422620912+ -->\n<g id=\"edge18\" class=\"edge\">\n<title>133042422612416&#45;&gt;133042422620912+</title>\n<path fill=\"none\" stroke=\"black\" d=\"M1572.1,-147.75C1581.4,-149.37 1590.38,-150.93 1598.49,-152.33\"/>\n<polygon fill=\"black\" stroke=\"black\" points=\"1598.14,-155.83 1608.59,-154.09 1599.34,-148.93 1598.14,-155.83\"/>\n</g>\n<!-- 133042422612416+&#45;&gt;133042422612416 -->\n<g id=\"edge7\" class=\"edge\">\n<title>133042422612416+&#45;&gt;133042422612416</title>\n<path fill=\"none\" stroke=\"black\" d=\"M1347.03,-131.5C1354.66,-131.5 1363.52,-131.5 1372.94,-131.5\"/>\n<polygon fill=\"black\" stroke=\"black\" points=\"1372.94,-135 1382.94,-131.5 1372.94,-128 1372.94,-135\"/>\n</g>\n<!-- 133042422612944 -->\n<g id=\"node21\" class=\"node\">\n<title>133042422612944</title>\n<polygon fill=\"none\" stroke=\"black\" points=\"314.5,-110.5 314.5,-146.5 496.5,-146.5 496.5,-110.5 314.5,-110.5\"/>\n<text text-anchor=\"middle\" x=\"324.5\" y=\"-124.8\" font-family=\"Times,serif\" font-size=\"14.00\"> </text>\n<polyline fill=\"none\" stroke=\"black\" points=\"334.5,-110.5 334.5,-146.5 \"/>\n<text text-anchor=\"middle\" x=\"374.5\" y=\"-124.8\" font-family=\"Times,serif\" font-size=\"14.00\">data 9.0000</text>\n<polyline fill=\"none\" stroke=\"black\" points=\"414.5,-110.5 414.5,-146.5 \"/>\n<text text-anchor=\"middle\" x=\"455.5\" y=\"-124.8\" font-family=\"Times,serif\" font-size=\"14.00\">grad 2.0000</text>\n</g>\n<!-- 133042422612944&#45;&gt;133042422618896* -->\n<g id=\"edge15\" class=\"edge\">\n<title>133042422612944&#45;&gt;133042422618896*</title>\n<path fill=\"none\" stroke=\"black\" d=\"M468.45,-146.54C488.52,-152.39 510.03,-158.65 527.25,-163.67\"/>\n<polygon fill=\"black\" stroke=\"black\" points=\"526.28,-167.03 536.86,-166.47 528.23,-160.31 526.28,-167.03\"/>\n</g>\n<!-- 133042422612944**2&#45;&gt;133042422612944 -->\n<g id=\"edge8\" class=\"edge\">\n<title>133042422612944**2&#45;&gt;133042422612944</title>\n<path fill=\"none\" stroke=\"black\" d=\"M276.21,-128.5C284.34,-128.5 293.85,-128.5 303.94,-128.5\"/>\n<polygon fill=\"black\" stroke=\"black\" points=\"304.19,-132 314.19,-128.5 304.19,-125 304.19,-132\"/>\n</g>\n<!-- 133042422624752 -->\n<g id=\"node23\" class=\"node\">\n<title>133042422624752</title>\n<polygon fill=\"none\" stroke=\"black\" points=\"626,-213.5 626,-249.5 813,-249.5 813,-213.5 626,-213.5\"/>\n<text text-anchor=\"middle\" x=\"636\" y=\"-227.8\" font-family=\"Times,serif\" font-size=\"14.00\"> </text>\n<polyline fill=\"none\" stroke=\"black\" points=\"646,-213.5 646,-249.5 \"/>\n<text text-anchor=\"middle\" x=\"688.5\" y=\"-227.8\" font-family=\"Times,serif\" font-size=\"14.00\">data &#45;6.0000</text>\n<polyline fill=\"none\" stroke=\"black\" points=\"731,-213.5 731,-249.5 \"/>\n<text text-anchor=\"middle\" x=\"772\" y=\"-227.8\" font-family=\"Times,serif\" font-size=\"14.00\">grad 1.0000</text>\n</g>\n<!-- 133042422624752&#45;&gt;133042422614576+ -->\n<g id=\"edge12\" class=\"edge\">\n<title>133042422624752&#45;&gt;133042422614576+</title>\n<path fill=\"none\" stroke=\"black\" d=\"M788.75,-213.47C827.53,-203.22 874.42,-190.83 905.61,-182.59\"/>\n<polygon fill=\"black\" stroke=\"black\" points=\"906.78,-185.9 915.55,-179.96 904.99,-179.13 906.78,-185.9\"/>\n</g>\n<!-- 133042422624752*&#45;&gt;133042422624752 -->\n<g id=\"edge9\" class=\"edge\">\n<title>133042422624752*&#45;&gt;133042422624752</title>\n<path fill=\"none\" stroke=\"black\" d=\"M589.03,-237.33C596.86,-236.98 605.96,-236.57 615.66,-236.13\"/>\n<polygon fill=\"black\" stroke=\"black\" points=\"616.11,-239.61 625.94,-235.67 615.79,-232.62 616.11,-239.61\"/>\n</g>\n</g>\n</svg>\n",
            "text/plain": [
              "<graphviz.graphs.Digraph at 0x79005a572410>"
            ]
          },
          "metadata": {},
          "execution_count": 639
        }
      ]
    },
    {
      "cell_type": "code",
      "source": [
        "class Neuron:\n",
        "  def __init__(self, nin):\n",
        "    self.w = [Value(random.uniform(-1, 1)) for _ in range(nin)]\n",
        "    self.b = Value(random.uniform(-1, 1))\n",
        "\n",
        "  def __call__(self, x):\n",
        "    # w * x + b\n",
        "    activation = sum((wi * xi for wi, xi in zip(self.w, x)), self.b)\n",
        "    output = activation.tanh()\n",
        "    return output\n",
        "\n",
        "  def parameters(self):\n",
        "    params = self.w + [self.b]\n",
        "    return params\n",
        "\n",
        "\n",
        "class Layer:\n",
        "  def __init__(self, nin, nout):\n",
        "    self.neurons = [Neuron(nin) for _ in range(nout)]\n",
        "\n",
        "  def __call__(self, x):\n",
        "    outputs = [neuron(x) for neuron in self.neurons]\n",
        "    return outputs\n",
        "\n",
        "  def parameters(self):\n",
        "    params = []\n",
        "    for neuron in self.neurons:\n",
        "      params += neuron.parameters()\n",
        "    return params\n",
        "\n",
        "\n",
        "class MLP:\n",
        "  def __init__(self, nin, nouts):\n",
        "    sz = [nin] + nouts\n",
        "    self.layers = [Layer(sz[i], sz[i+1]) for i in range(len(nouts))]\n",
        "\n",
        "  def __call__(self, x):\n",
        "    for layer in self.layers:\n",
        "      x = layer(x)\n",
        "    return x\n",
        "\n",
        "  def parameters(self):\n",
        "    params = []\n",
        "    for layer in self.layers:\n",
        "      params += layer.parameters()\n",
        "    return params\n",
        "\n",
        "  @staticmethod\n",
        "  def loss(ys, ypred):\n",
        "    losses = []\n",
        "    for ygt, yout in zip(ys, ypred):\n",
        "      loss = sum((yout[i] - ygt[i])**2 for i in range(len(ygt)))\n",
        "      losses.append(loss)\n",
        "\n",
        "    loss = sum(loss for loss in losses) / len(losses)\n",
        "    return loss"
      ],
      "metadata": {
        "id": "yZq-YTjCqVe3"
      },
      "execution_count": null,
      "outputs": []
    },
    {
      "cell_type": "code",
      "source": [
        "x = [2, 3, -1]\n",
        "n = MLP(3, [4, 4, 1])\n",
        "n(x)"
      ],
      "metadata": {
        "colab": {
          "base_uri": "https://localhost:8080/"
        },
        "id": "cbepXkUJ7lg_",
        "outputId": "e8e9f997-ce85-4501-d4d5-fe807a769931"
      },
      "execution_count": null,
      "outputs": [
        {
          "output_type": "execute_result",
          "data": {
            "text/plain": [
              "[Value(data=-0.08425336581125087)]"
            ]
          },
          "metadata": {},
          "execution_count": 641
        }
      ]
    },
    {
      "cell_type": "code",
      "source": [
        "xs = [\n",
        "  [2.0, 3.0, -1.0],\n",
        "  [3.0, -1.0, 0.5],\n",
        "  [0.5, 1.0, 1.0],\n",
        "  [1.0, 1.0, -1.0],\n",
        "]  # inputs\n",
        "ys = [\n",
        "  [1.0, 1.0],\n",
        "  [-1.0, -1.0],\n",
        "  [-1.0, 1.0],\n",
        "  [1.0, -1.0]\n",
        "]  # desired outputs\n",
        "\n",
        "n = MLP(3, [4, 4, 2])\n",
        "\n",
        "ypred = [n(x) for x in xs]\n",
        "ypred"
      ],
      "metadata": {
        "colab": {
          "base_uri": "https://localhost:8080/"
        },
        "id": "hayLkbyZ7q03",
        "outputId": "df370f3a-1bb2-4a15-c503-173e382e8e22"
      },
      "execution_count": null,
      "outputs": [
        {
          "output_type": "execute_result",
          "data": {
            "text/plain": [
              "[[Value(data=0.06677344858147563), Value(data=-0.9481316118796925)],\n",
              " [Value(data=-0.4486032568463987), Value(data=0.4860243288313295)],\n",
              " [Value(data=-0.44909342183136414), Value(data=0.868007249919563)],\n",
              " [Value(data=0.012600760419869602), Value(data=-0.9404336920776596)]]"
            ]
          },
          "metadata": {},
          "execution_count": 642
        }
      ]
    },
    {
      "cell_type": "code",
      "source": [
        "# losses = []\n",
        "# for ygt, yout in zip(ys, ypred):\n",
        "#   loss = sum((youti - ygti)**2 for ygti, youti in zip(ygt, yout))\n",
        "#   losses.append(loss)\n",
        "# print(losses)\n",
        "\n",
        "# loss = sum(loss for loss in losses) / len(losses)\n",
        "# print(loss)"
      ],
      "metadata": {
        "id": "1DCbl_kBq842"
      },
      "execution_count": null,
      "outputs": []
    },
    {
      "cell_type": "code",
      "source": [
        "# losses = []\n",
        "# for ygt, yout in zip(ys, ypred):\n",
        "#   loss = sum((yout[i] - ygt[i])**2 for i in range(len(ygt)))\n",
        "#   losses.append(loss)\n",
        "# print(losses)\n",
        "\n",
        "# loss = sum(loss for loss in losses) / len(losses)\n",
        "# print(loss)"
      ],
      "metadata": {
        "id": "46VgTF-a75Ow"
      },
      "execution_count": null,
      "outputs": []
    },
    {
      "cell_type": "code",
      "source": [
        "loss = n.loss(ys, ypred)\n",
        "print(loss)"
      ],
      "metadata": {
        "colab": {
          "base_uri": "https://localhost:8080/"
        },
        "id": "u0-ozN7o4pyw",
        "outputId": "95b0a0b9-e493-4d53-b074-36bae022787d"
      },
      "execution_count": null,
      "outputs": [
        {
          "output_type": "stream",
          "name": "stdout",
          "text": [
            "Value(data=2.1194651987556683)\n"
          ]
        }
      ]
    },
    {
      "cell_type": "code",
      "source": [
        "loss.backward()"
      ],
      "metadata": {
        "id": "Q72M4cHHk1Tg"
      },
      "execution_count": null,
      "outputs": []
    },
    {
      "cell_type": "code",
      "source": [
        "print(n.layers[0].neurons[0].w[0].data)\n",
        "print(n.layers[0].neurons[0].w[0].grad)"
      ],
      "metadata": {
        "colab": {
          "base_uri": "https://localhost:8080/"
        },
        "id": "qN7XA5ORk6_2",
        "outputId": "e242ade3-5c98-4d8a-f828-c20f569984fd"
      },
      "execution_count": null,
      "outputs": [
        {
          "output_type": "stream",
          "name": "stdout",
          "text": [
            "-0.1412773885506513\n",
            "0.9590988882271618\n"
          ]
        }
      ]
    },
    {
      "cell_type": "code",
      "source": [
        "n.parameters()"
      ],
      "metadata": {
        "colab": {
          "base_uri": "https://localhost:8080/"
        },
        "id": "V2okmTbkyBHm",
        "outputId": "5325fb8e-8a17-4441-ad41-03af75469717"
      },
      "execution_count": null,
      "outputs": [
        {
          "output_type": "execute_result",
          "data": {
            "text/plain": [
              "[Value(data=-0.1412773885506513),\n",
              " Value(data=-0.03250125397667247),\n",
              " Value(data=0.6945452976486839),\n",
              " Value(data=0.47732338714286193),\n",
              " Value(data=-0.013593446955239452),\n",
              " Value(data=0.34615165525612723),\n",
              " Value(data=-0.6308405338313772),\n",
              " Value(data=-0.839233195784727),\n",
              " Value(data=-0.21782559435217808),\n",
              " Value(data=-0.7163927664377898),\n",
              " Value(data=0.9608919998557284),\n",
              " Value(data=0.9701334257440644),\n",
              " Value(data=-0.8349880427374956),\n",
              " Value(data=0.5668164831087896),\n",
              " Value(data=0.6439867716697147),\n",
              " Value(data=-0.6812677629947579),\n",
              " Value(data=0.02351024744635155),\n",
              " Value(data=0.27987167884015585),\n",
              " Value(data=-0.09364031685804575),\n",
              " Value(data=0.9524801884099185),\n",
              " Value(data=-0.09702247755542381),\n",
              " Value(data=-0.5586440308884204),\n",
              " Value(data=0.06793959930217763),\n",
              " Value(data=-0.8084440663908636),\n",
              " Value(data=-0.8380722311795052),\n",
              " Value(data=-0.07710733875900355),\n",
              " Value(data=-0.9522564329490735),\n",
              " Value(data=-0.29518331068483583),\n",
              " Value(data=-0.1219377553565375),\n",
              " Value(data=0.6903284674139825),\n",
              " Value(data=-0.26012086264981105),\n",
              " Value(data=0.20883391495407388),\n",
              " Value(data=-0.9945311847051248),\n",
              " Value(data=0.8553941415166713),\n",
              " Value(data=-0.43125483735030823),\n",
              " Value(data=-0.6376876394486222),\n",
              " Value(data=0.14099602754242935),\n",
              " Value(data=0.26623806786128723),\n",
              " Value(data=0.45081208682807694),\n",
              " Value(data=0.004272025643983213),\n",
              " Value(data=0.07897089544126312),\n",
              " Value(data=0.9022339652970639),\n",
              " Value(data=-0.7402019932622155),\n",
              " Value(data=-0.42378267541981307),\n",
              " Value(data=0.8280714007659551),\n",
              " Value(data=0.025252278258853567)]"
            ]
          },
          "metadata": {},
          "execution_count": 648
        }
      ]
    },
    {
      "cell_type": "code",
      "source": [
        "step = 0.1\n",
        "for param in n.parameters():\n",
        "  param.data += -param.grad * step"
      ],
      "metadata": {
        "id": "yzlqLDsSzXqE"
      },
      "execution_count": null,
      "outputs": []
    },
    {
      "cell_type": "code",
      "source": [
        "# # forward\n",
        "# ypred = [n(x) for x in xs]\n",
        "# loss = n.loss(ys, ypred)\n",
        "\n",
        "# # backward\n",
        "# for p in n.parameters():\n",
        "#   p.grad = 0\n",
        "# loss.backward()\n",
        "\n",
        "# # update\n",
        "# step = 1000\n",
        "# for param in n.parameters():\n",
        "#   param.data += -param.grad * step"
      ],
      "metadata": {
        "id": "oyD6Hwy18sD0"
      },
      "execution_count": null,
      "outputs": []
    },
    {
      "cell_type": "code",
      "source": [
        "for _ in range(1000):\n",
        "  # forward\n",
        "  ypred = [n(x) for x in xs]\n",
        "  loss = n.loss(ys, ypred)\n",
        "\n",
        "  # backward\n",
        "  for p in n.parameters():\n",
        "    p.grad = 0\n",
        "  loss.backward()\n",
        "\n",
        "  # update\n",
        "  step = 0.1\n",
        "  for param in n.parameters():\n",
        "    param.data += -param.grad * step"
      ],
      "metadata": {
        "id": "2obLG_uwJFDS"
      },
      "execution_count": null,
      "outputs": []
    },
    {
      "cell_type": "code",
      "source": [
        "ypred = [n(x) for x in xs]\n",
        "n.loss(ys, ypred)"
      ],
      "metadata": {
        "colab": {
          "base_uri": "https://localhost:8080/"
        },
        "id": "HShCB4dq0OJu",
        "outputId": "afe4bff8-b07e-4dab-f44f-9ac960bf6e4c"
      },
      "execution_count": null,
      "outputs": [
        {
          "output_type": "execute_result",
          "data": {
            "text/plain": [
              "Value(data=0.0007853112970883494)"
            ]
          },
          "metadata": {},
          "execution_count": 652
        }
      ]
    },
    {
      "cell_type": "code",
      "source": [
        "ypred"
      ],
      "metadata": {
        "colab": {
          "base_uri": "https://localhost:8080/"
        },
        "id": "-sbpPilM6gDt",
        "outputId": "9532e9b4-9596-4c13-8d80-e3adc967abfd"
      },
      "execution_count": null,
      "outputs": [
        {
          "output_type": "execute_result",
          "data": {
            "text/plain": [
              "[[Value(data=0.9825163009859068), Value(data=0.9770708448465069)],\n",
              " [Value(data=-0.9778434831228819), Value(data=-0.9815507741157826)],\n",
              " [Value(data=-0.9830534151158132), Value(data=0.9841056022869854)],\n",
              " [Value(data=0.9784856383380119), Value(data=-0.978186065242307)]]"
            ]
          },
          "metadata": {},
          "execution_count": 653
        }
      ]
    },
    {
      "cell_type": "code",
      "source": [
        "# import torch"
      ],
      "metadata": {
        "id": "_KrDioxbzJ7S"
      },
      "execution_count": null,
      "outputs": []
    },
    {
      "cell_type": "code",
      "source": [
        "# x1 = torch.Tensor([2.0]).double()                ; x1.requires_grad = True\n",
        "# x2 = torch.Tensor([0.0]).double()                ; x2.requires_grad = True\n",
        "# w1 = torch.Tensor([-3.0]).double()               ; w1.requires_grad = True\n",
        "# w2 = torch.Tensor([1.0]).double()                ; w2.requires_grad = True\n",
        "# b = torch.Tensor([6.8813735870195432]).double()  ; b.requires_grad = True\n",
        "# n = x1*w1 + x2*w2 + b\n",
        "# o = torch.tanh(n)\n",
        "\n",
        "# print(o.data.item())\n",
        "# o.backward()\n",
        "\n",
        "# print('---')\n",
        "# print('x2', x2.grad.item())\n",
        "# print('w2', w2.grad.item())\n",
        "# print('x1', x1.grad.item())\n",
        "# print('w1', w1.grad.item())"
      ],
      "metadata": {
        "id": "_-dC-UgE4qR7"
      },
      "execution_count": null,
      "outputs": []
    },
    {
      "cell_type": "code",
      "source": [
        "# print(o)\n",
        "# print(o.data.item())\n",
        "# print(o.item())"
      ],
      "metadata": {
        "id": "w-Yyv4oY5Usg"
      },
      "execution_count": null,
      "outputs": []
    },
    {
      "cell_type": "code",
      "source": [
        "# print(w1.grad)\n",
        "# print(w1.grad.item())"
      ],
      "metadata": {
        "id": "AHAFDA2r5gTq"
      },
      "execution_count": null,
      "outputs": []
    },
    {
      "cell_type": "code",
      "source": [],
      "metadata": {
        "id": "c8-6Kd6-5xKq"
      },
      "execution_count": null,
      "outputs": []
    }
  ]
}